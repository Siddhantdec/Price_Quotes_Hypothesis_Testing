{
 "cells": [
  {
   "cell_type": "markdown",
   "id": "273841c5",
   "metadata": {},
   "source": [
    "# Hypothesis Testing: Independent Samples data"
   ]
  },
  {
   "cell_type": "code",
   "execution_count": null,
   "id": "a7821af2",
   "metadata": {},
   "outputs": [],
   "source": [
    "# Load the data\n",
    "Prices = pd.read_csv( 'Price_Quotes.csv' )\n",
    "Prices"
   ]
  },
  {
   "cell_type": "code",
   "execution_count": null,
   "id": "aeffb920",
   "metadata": {},
   "outputs": [],
   "source": [
    "print('Average price quote of Barry :',Prices.Barry_Price.mean())\n",
    "print('Average price quote of Mary :',Prices.Mary_Price.mean())"
   ]
  },
  {
   "cell_type": "markdown",
   "id": "792712a6",
   "metadata": {},
   "source": [
    "**Null hypothesis (Ho): There is no difference in the average price quotes provided by Mary and Barry.**\n",
    "    \n",
    "**Alternate Hypothesis (Ha) :  There is a difference in the average price quotes provided by Mary and Barry.**\n",
    "    \n",
    "**Confidence Interval : 95% ; p-value : 0.05**"
   ]
  },
  {
   "cell_type": "code",
   "execution_count": null,
   "id": "ef0fc27c",
   "metadata": {},
   "outputs": [],
   "source": [
    "stats.ttest_ind(Prices.Barry_Price,Prices.Mary_Price)"
   ]
  },
  {
   "cell_type": "markdown",
   "id": "165c55a4",
   "metadata": {},
   "source": [
    "***p-value is more than 0.05, so we can conclude that there is no difference in the average price quotes provided by Mary and Barry.***"
   ]
  }
 ],
 "metadata": {
  "kernelspec": {
   "display_name": "Python 3 (ipykernel)",
   "language": "python",
   "name": "python3"
  },
  "language_info": {
   "codemirror_mode": {
    "name": "ipython",
    "version": 3
   },
   "file_extension": ".py",
   "mimetype": "text/x-python",
   "name": "python",
   "nbconvert_exporter": "python",
   "pygments_lexer": "ipython3",
   "version": "3.9.7"
  }
 },
 "nbformat": 4,
 "nbformat_minor": 5
}
